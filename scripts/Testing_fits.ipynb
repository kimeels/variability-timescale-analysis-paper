{
 "cells": [
  {
   "cell_type": "code",
   "execution_count": 20,
   "metadata": {
    "collapsed": true
   },
   "outputs": [],
   "source": [
    "import numpy as np \n",
    "import pylab as pl\n",
    "\n",
    "from scipy.optimize import curve_fit\n",
    "from scipy.special import erfc\n",
    "\n",
    "from simlightcurve import curves"
   ]
  },
  {
   "cell_type": "code",
   "execution_count": 8,
   "metadata": {},
   "outputs": [
    {
     "data": {
      "text/plain": [
       "40"
      ]
     },
     "execution_count": 8,
     "metadata": {},
     "output_type": "execute_result"
    }
   ],
   "source": [
    "hr = 60*60\n",
    "decay_tau=1.*24*hr\n",
    "rise_tau=decay_tau*0.3\n",
    "t1_offset = decay_tau\n",
    "\n",
    "fred = curves.LinearExp(\n",
    "    amplitude=1.0,\n",
    "    rise_time=rise_tau*1.5,\n",
    "    decay_tau=decay_tau,\n",
    "    t0=None\n",
    ")\n",
    "\n",
    "gred = curves.GaussExp(\n",
    "            amplitude=1.0,\n",
    "            rise_tau=rise_tau,\n",
    "            decay_tau=decay_tau,\n",
    "            t0=None\n",
    ")\n",
    "\n",
    "grpld = curves.GaussPowerlaw(\n",
    "    amplitude = 1.0,\n",
    "    rise_tau=rise_tau,\n",
    "    decay_alpha=-1.5,\n",
    "    decay_offset=decay_tau,\n",
    "    t0=None\n",
    ")\n",
    "\n",
    "tsteps = np.linspace(-rise_tau*3, decay_tau*5,40 )\n",
    "len(tsteps)"
   ]
  },
  {
   "cell_type": "code",
   "execution_count": 9,
   "metadata": {},
   "outputs": [
    {
     "data": {
      "image/png": "[encoded data removed]",
      "text/plain": [
       "<matplotlib.figure.Figure at 0x7f30b5640b38>"
      ]
     },
     "metadata": {},
     "output_type": "display_data"
    }
   ],
   "source": [
    "data = grpld(tsteps)\n",
    "fig = pl.figure(figsize=(12, 6))\n",
    "pl.title('Various rise and decay models', fontsize=36)\n",
    "\n",
    "pl.xlabel('Time')\n",
    "pl.ylabel('Flux')\n",
    "#pl.plot(tsteps, fred(tsteps), label='FRED', ls='--')\n",
    "#pl.plot(tsteps, gred(tsteps), label='GRED', ls='--')\n",
    "pl.plot(tsteps, data,'x', label='GRPLD')\n",
    "# pl.set_xscale('log')\n",
    "# pl.set_yscale('log')\n",
    "pl.ylim(1e-5,1.001)\n",
    "pl.legend()\n",
    "pl.show()"
   ]
  },
  {
   "cell_type": "code",
   "execution_count": 10,
   "metadata": {
    "collapsed": true
   },
   "outputs": [],
   "source": [
    "def gpl(time,amplitude,rise_tau,decay_alpha,decay_offset):\n",
    "    grpld = curves.GaussPowerlaw(\n",
    "    amplitude = amplitude,\n",
    "    rise_tau=rise_tau,\n",
    "    decay_alpha=decay_alpha,\n",
    "    decay_offset=decay_offset,\n",
    "    t0=None)\n",
    "    return grpld(time)\n",
    "\n"
   ]
  },
  {
   "cell_type": "code",
   "execution_count": 25,
   "metadata": {},
   "outputs": [
    {
     "name": "stderr",
     "output_type": "stream",
     "text": [
      "/usr/local/lib/python3.5/dist-packages/simlightcurve-0+untagged.23.g801b8e8-py3.5.egg/simlightcurve/curves/composite/gausspowerlaw.py:31: RuntimeWarning: invalid value encountered in power\n",
      "/usr/local/lib/python3.5/dist-packages/simlightcurve-0+untagged.23.g801b8e8-py3.5.egg/simlightcurve/curves/powerlaw.py:93: RuntimeWarning: invalid value encountered in power\n",
      "/home/kimeel/.local/lib/python3.5/site-packages/scipy/optimize/minpack.py:779: OptimizeWarning: Covariance of the parameters could not be estimated\n",
      "  category=OptimizeWarning)\n"
     ]
    }
   ],
   "source": [
    "param, cov = curve_fit(f=gpl,\n",
    "                           xdata=tsteps,\n",
    "                           ydata=data/np.max(data)\n",
    "                           )"
   ]
  },
  {
   "cell_type": "code",
   "execution_count": 42,
   "metadata": {
    "collapsed": true
   },
   "outputs": [],
   "source": [
    "def expgauss(x,A,mu,sigma,lamb):\n",
    "    d = lamb/2 \n",
    "    b = 2*mu + lamb*(sigma**2) - 2*x\n",
    "    c = (mu + lamb*(sigma**2) - x)/(np.sqrt(2)*sigma)\n",
    "    func = d*np.exp(d*b)*erfc(c)\n",
    "    return A*func/np.max(func)\n"
   ]
  },
  {
   "cell_type": "code",
   "execution_count": 30,
   "metadata": {},
   "outputs": [
    {
     "name": "stderr",
     "output_type": "stream",
     "text": [
      "/home/kimeel/.local/lib/python3.5/site-packages/ipykernel_launcher.py:5: RuntimeWarning: overflow encountered in exp\n",
      "  \"\"\"\n",
      "/home/kimeel/.local/lib/python3.5/site-packages/ipykernel_launcher.py:5: RuntimeWarning: invalid value encountered in multiply\n",
      "  \"\"\"\n",
      "/home/kimeel/.local/lib/python3.5/site-packages/scipy/optimize/minpack.py:779: OptimizeWarning: Covariance of the parameters could not be estimated\n",
      "  category=OptimizeWarning)\n"
     ]
    }
   ],
   "source": [
    "param, cov = curve_fit(f=expgauss,\n",
    "                           xdata=tsteps,\n",
    "                           ydata=data/np.max(data)\n",
    "                           )"
   ]
  },
  {
   "cell_type": "code",
   "execution_count": 45,
   "metadata": {},
   "outputs": [
    {
     "data": {
      "image/png": "[encoded data removed]",
      "text/plain": [
       "<matplotlib.figure.Figure at 0x7f30b4ba29e8>"
      ]
     },
     "metadata": {},
     "output_type": "display_data"
    }
   ],
   "source": [
    "testx = np.linspace(-10,10,10000)\n",
    "testy = expgauss(testx,1,-3,1,0.25)\n",
    "pl.plot(testx,testy + 0.3*np.random.random(len(testy)))\n",
    "pl.show()"
   ]
  },
  {
   "cell_type": "code",
   "execution_count": 48,
   "metadata": {},
   "outputs": [],
   "source": [
    "param, cov = curve_fit(f=expgauss,\n",
    "                           xdata=testx,\n",
    "                           ydata=2.65*testy/np.max(testy)\n",
    "                           )"
   ]
  },
  {
   "cell_type": "code",
   "execution_count": 49,
   "metadata": {},
   "outputs": [
    {
     "data": {
      "text/plain": [
       "array([ 2.65, -3.  ,  1.  ,  0.25])"
      ]
     },
     "execution_count": 49,
     "metadata": {},
     "output_type": "execute_result"
    }
   ],
   "source": [
    "param"
   ]
  },
  {
   "cell_type": "code",
   "execution_count": null,
   "metadata": {
    "collapsed": true
   },
   "outputs": [],
   "source": []
  },
  {
   "cell_type": "code",
   "execution_count": null,
   "metadata": {
    "collapsed": true
   },
   "outputs": [],
   "source": []
  }
 ],
 "metadata": {
  "kernelspec": {
   "display_name": "Python 3",
   "language": "python",
   "name": "python3"
  },
  "language_info": {
   "codemirror_mode": {
    "name": "ipython",
    "version": 3
   },
   "file_extension": ".py",
   "mimetype": "text/x-python",
   "name": "python",
   "nbconvert_exporter": "python",
   "pygments_lexer": "ipython3",
   "version": "3.5.2"
  }
 },
 "nbformat": 4,
 "nbformat_minor": 2
}
